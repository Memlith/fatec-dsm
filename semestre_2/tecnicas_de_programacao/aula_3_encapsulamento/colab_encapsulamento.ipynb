{
  "nbformat": 4,
  "nbformat_minor": 0,
  "metadata": {
    "colab": {
      "provenance": []
    },
    "kernelspec": {
      "name": "python3",
      "display_name": "Python 3"
    },
    "language_info": {
      "name": "python"
    }
  },
  "cells": [
    {
      "cell_type": "markdown",
      "source": [
        "# **Encapsulamento em Programação Orientada a Objetos**\n",
        "\n",
        "O **encapsulamento** é um princípio da programação orientada a objetos que visa esconder a complexidade interna de um objeto e fornecer uma interface pública para interagir com ele.\n",
        "\n",
        "A principal razão para usar o encapsulamento é **proteger o estado interno de um objeto** e permitir o controle sobre como ele é acessado e modificado.\n",
        "\n",
        "Em Python, o **encapsulamento** pode ser feito por meio de **modificadores de acesso**, que definem o **nível de visibilidade** e **acesso de um atributo ou método**.\n",
        "\n",
        "Embora o Python não tenha **modificadores de acesso** tão rígidos (como private, protected e public) quanto outras linguagens, mas podemos simular esses comportamentos com convenções."
      ],
      "metadata": {
        "id": "s27FFUtj9uRg"
      }
    },
    {
      "cell_type": "markdown",
      "source": [
        "# **Modificadores de Acesso em Python**\n",
        "\n",
        "**1. Público (public)**\n",
        "\n",
        "**Descrição:** Atributos e métodos públicos são acessíveis de qualquer parte do código. Eles não têm restrição de acesso.\n",
        "\n",
        "**Como fazer**: Não usamos nenhum prefixo específico.\n",
        "\n",
        "**Exemplo:**"
      ],
      "metadata": {
        "id": "WdV6oCgT9yHX"
      }
    },
    {
      "cell_type": "code",
      "source": [
        "\n",
        "class Pessoa:\n",
        "    def __init__(self, nome, idade):\n",
        "        self.nome = nome  # Atributo público\n",
        "        self.idade = idade  # Atributo público\n",
        "\n",
        "    def info(self):\n",
        "        return (f\"Olá, meu nome é {self.nome} e tenho {self.idade} anos.\")  # Método público\n",
        "\n",
        "pessoa1 = Pessoa(\"Carlos\", 30)\n",
        "print(pessoa1.nome)  # Acesso ao atributo público\n",
        "print(pessoa1.info())  # Acesso ao método público\n"
      ],
      "metadata": {
        "id": "03XZYaU79zE3",
        "colab": {
          "base_uri": "https://localhost:8080/"
        },
        "outputId": "e788a6b0-46af-45de-dc76-ddfa245b410c"
      },
      "execution_count": null,
      "outputs": [
        {
          "output_type": "stream",
          "name": "stdout",
          "text": [
            "Carlos\n",
            "Olá, meu nome é Carlos e tenho 30 anos.\n"
          ]
        }
      ]
    },
    {
      "cell_type": "markdown",
      "source": [
        "**Quando usar:**\n",
        "\n",
        "* Quando o atributo ou método deve ser acessado diretamente de fora da classe.\n",
        "\n",
        "* Quando você deseja que o objeto seja amplamente acessível e manipulável."
      ],
      "metadata": {
        "id": "qIsY4nL298Qf"
      }
    },
    {
      "cell_type": "markdown",
      "source": [
        "**2. Protegido (protected)**\n",
        "\n",
        "**Descrição:** **Atributos e métodos protegidos** são destinados ao uso dentro da própria **classe e suas subclasses**.\n",
        "\n",
        "Em Python, usamos um único underscore ( `_` ) como convenção para indicar que um atributo ou método é protegido.\n",
        "\n",
        "Embora não haja verdadeira restrição, a convenção indica que ele não deve ser acessado diretamente de fora da classe.\n",
        "\n",
        "**Como fazer:** Colocamos um underscore antes do nome do **atributo ou método.**\n",
        "\n",
        "**Exemplo:**"
      ],
      "metadata": {
        "id": "mURVO3tR9-9o"
      }
    },
    {
      "cell_type": "code",
      "source": [
        "class Animal:\n",
        "    def __init__(self, nome):\n",
        "        self._nome = nome  # Atributo protegido\n",
        "\n",
        "    def _som(self):  # Método protegido\n",
        "        return (\"Som genérico\")\n",
        "\n",
        "class Cachorro(Animal):\n",
        "    def __init__(self, nome, raca):\n",
        "        self._nome = nome  # Inicializa o nome manualmente (repetindo código)\n",
        "        self._raca = raca  # Atributo protegido na subclasse\n",
        "\n",
        "    def _som(self):  # Método protegido na subclasse\n",
        "        return (\"Au Au!\")\n",
        "\n",
        "cachorro = Cachorro(\"Rex\", \"Labrador\")\n",
        "print(cachorro._nome)  # Acesso ao atributo protegido\n",
        "print(cachorro._som())  # Acesso ao método protegido\n",
        "\n"
      ],
      "metadata": {
        "id": "Ie3GTAYZ-Df3",
        "colab": {
          "base_uri": "https://localhost:8080/"
        },
        "outputId": "2bcf0cab-3185-4b3b-8277-4a100502dfa1"
      },
      "execution_count": null,
      "outputs": [
        {
          "output_type": "stream",
          "name": "stdout",
          "text": [
            "Rex\n",
            "Au Au!\n"
          ]
        }
      ]
    },
    {
      "cell_type": "markdown",
      "source": [
        "**Quando usar:**\n",
        "\n",
        "* Quando você quer que um atributo ou método seja utilizado apenas dentro da classe ou por classes filhas.\n",
        "* Quando você deseja dar um \"aviso\" de que um atributo não deve ser acessado diretamente fora da classe, mas ainda assim permitir."
      ],
      "metadata": {
        "id": "7wGbslgj-G0G"
      }
    },
    {
      "cell_type": "markdown",
      "source": [
        "**3. Privado (private)**\n",
        "\n",
        "**Descrição:**\n",
        "\n",
        "Atributos e métodos privados são indicados por dois underscores __ antes do nome. Eles não podem ser acessados diretamente de fora da classe.\n",
        "\n",
        "Como fazer:\n",
        "\n",
        "Usamos __ antes do nome do atributo ou método.\n",
        "\n",
        "**Exemplo:**"
      ],
      "metadata": {
        "id": "ZS45XWEoC4I_"
      }
    },
    {
      "cell_type": "code",
      "source": [
        "class ContaBancaria:\n",
        "    def __init__(self, titular, saldo):\n",
        "        self.__titular = titular  # Atributo privado\n",
        "        self.__saldo = saldo  # Atributo privado\n",
        "\n",
        "    def __verificar_saldo(self):  # Método privado\n",
        "        return self.__saldo\n",
        "\n",
        "    def depositar(self, valor):\n",
        "        if valor > 0:\n",
        "            self.__saldo += valor\n",
        "\n",
        "    def sacar(self, valor):\n",
        "        if valor <= self.__saldo:\n",
        "            self.__saldo -= valor\n",
        "        else:\n",
        "            print(\"Saldo insuficiente!\")\n",
        "\n",
        "conta = ContaBancaria(\"Maria\", 1000)\n",
        "# print(conta.__titular)  # Erro: Atributo privado\n",
        "# print(conta.__verificar_saldo())  # Erro: Método privado\n",
        "\n",
        "# Acessando o atributo privado de forma não recomendada\n",
        "print(conta._ContaBancaria__verificar_saldo())"
      ],
      "metadata": {
        "id": "sUv0Zx0GDUjW",
        "colab": {
          "base_uri": "https://localhost:8080/"
        },
        "outputId": "43632b3f-2c87-4fba-a8b3-c9d13179ce55"
      },
      "execution_count": null,
      "outputs": [
        {
          "output_type": "stream",
          "name": "stdout",
          "text": [
            "1000\n"
          ]
        }
      ]
    },
    {
      "cell_type": "markdown",
      "source": [
        "**Quando usar:**\n",
        "\n",
        "* Quando queremos esconder completamente um atributo ou método da interface externa.\n",
        "\n",
        "* Quando a integridade do objeto depende da manipulação controlada de seus atributos."
      ],
      "metadata": {
        "id": "4vfhUQBnDTPP"
      }
    },
    {
      "cell_type": "markdown",
      "source": [
        "**Diferença entre Público, Protegido e Privado**\n",
        "\n",
        "![image.png](data:image/png;base64,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)"
      ],
      "metadata": {
        "id": "oCI2GcizDbUI"
      }
    },
    {
      "cell_type": "markdown",
      "source": [
        "**Exemplo Completo de Encapsulamento**"
      ],
      "metadata": {
        "id": "imPKQnpLDsI-"
      }
    },
    {
      "cell_type": "code",
      "source": [
        "class Carro:\n",
        "    def __init__(self, modelo, cor, ano):\n",
        "        self.modelo = modelo  # Público\n",
        "        self._cor = cor  # Protegido\n",
        "        self.__ano = ano  # Privado\n",
        "\n",
        "    def mostrar_info(self):\n",
        "        return (f\"Modelo: {self.modelo}, Cor: {self._cor}, Ano: {self.__ano}\")\n",
        "\n",
        "    def _alterar_cor(self, nova_cor):  # Método protegido\n",
        "        self._cor = nova_cor\n",
        "\n",
        "    def __alterar_ano(self, novo_ano):  # Método privado\n",
        "        self.__ano = novo_ano\n",
        "\n",
        "# Criando um objeto\n",
        "carro = Carro(\"Fusca\", \"Azul\", 1970)\n",
        "print(carro.modelo)  # Atributo público\n",
        "print(carro._cor)  # Acesso permitido, mas não recomendado\n",
        "carro._alterar_cor(\"Vermelho\")\n",
        "print(carro.mostrar_info())\n"
      ],
      "metadata": {
        "id": "6VKb9S3JDtff",
        "colab": {
          "base_uri": "https://localhost:8080/"
        },
        "outputId": "a98fd485-05bb-48f6-b59f-7f9160662fea"
      },
      "execution_count": null,
      "outputs": [
        {
          "output_type": "stream",
          "name": "stdout",
          "text": [
            "Fusca\n",
            "Azul\n",
            "Modelo: Fusca, Cor: Vermelho, Ano: 1970\n"
          ]
        }
      ]
    },
    {
      "cell_type": "markdown",
      "source": [
        "**Conclusão**\n",
        "\n",
        "O **encapsulamento** é essencial para proteger os dados e garantir um melhor **controle sobre o acesso e modificação** dos atributos de um objeto.\n",
        "\n",
        "Ao utilizar corretamente os modificadores de acesso (**público, protegido e privado**), conseguimos criar sistemas mais seguros, modulares e fáceis de manter."
      ],
      "metadata": {
        "id": "Bj0BUASVDzUW"
      }
    },
    {
      "cell_type": "markdown",
      "source": [
        "**Aqui estão alguns exemplos de aplicações práticas do encapsulamento em projetos reais.**"
      ],
      "metadata": {
        "id": "sS-LEPqiEF6f"
      }
    },
    {
      "cell_type": "markdown",
      "source": [
        "**Exemplo: Controle de Estoque com Atributos Privados**\n",
        "\n",
        "Neste exemplo, criamos um sistema de estoque que protege a quantidade de itens e só permite modificá-la por meio de métodos específicos."
      ],
      "metadata": {
        "id": "TVkn9RvlENCm"
      }
    },
    {
      "cell_type": "code",
      "source": [
        "class Produto:\n",
        "    def __init__(self, nome, preco, quantidade):\n",
        "        self.__nome = nome  # Atributo privado\n",
        "        self.__preco = preco  # Atributo privado\n",
        "        self.__quantidade = quantidade  # Atributo privado\n",
        "\n",
        "    def adicionar_estoque(self, quantidade):\n",
        "        \"\"\"Adiciona itens ao estoque.\"\"\"\n",
        "        if quantidade > 0:\n",
        "            self.__quantidade += quantidade\n",
        "            print(f\"{quantidade} unidades adicionadas ao estoque de {self.__nome}.\")\n",
        "        else:\n",
        "            print(\"Quantidade inválida para adicionar!\")\n",
        "\n",
        "    def remover_estoque(self, quantidade):\n",
        "        \"\"\"Remove itens do estoque se houver quantidade suficiente.\"\"\"\n",
        "        if 0 < quantidade <= self.__quantidade:\n",
        "            self.__quantidade -= quantidade\n",
        "            print(f\"{quantidade} unidades removidas do estoque de {self.__nome}.\")\n",
        "        else:\n",
        "            print(\"Estoque insuficiente ou quantidade inválida!\")\n",
        "\n",
        "    def consultar_estoque(self):\n",
        "        \"\"\"Retorna a quantidade disponível no estoque.\"\"\"\n",
        "        return f\"Produto: {self.__nome} | Estoque: {self.__quantidade} unidades\"\n",
        "\n",
        "# Uso\n",
        "produto1 = Produto(\"Notebook\", 3500, 10)\n",
        "\n",
        "produto1.adicionar_estoque(5)  # Adiciona 5 ao estoque\n",
        "produto1.remover_estoque(3)  # Remove 3 do estoque\n",
        "print(produto1.consultar_estoque())  # Consulta o estoque\n",
        "\n"
      ],
      "metadata": {
        "id": "U-HfDJlXEP8f",
        "colab": {
          "base_uri": "https://localhost:8080/"
        },
        "outputId": "4f35f22a-d399-431a-c7d7-ce27908d53bf"
      },
      "execution_count": null,
      "outputs": [
        {
          "output_type": "stream",
          "name": "stdout",
          "text": [
            "5 unidades adicionadas ao estoque de Notebook.\n",
            "3 unidades removidas do estoque de Notebook.\n",
            "Produto: Notebook | Estoque: 12 unidades\n"
          ]
        }
      ]
    },
    {
      "cell_type": "markdown",
      "source": [
        "**2. Aplicação Web - Sistema de Usuários**\n",
        "\n",
        "Em um sistema web, as senhas dos usuários devem ser protegidas para evitar exposição."
      ],
      "metadata": {
        "id": "RQ93IreNEWqm"
      }
    },
    {
      "cell_type": "code",
      "source": [
        "import hashlib\n",
        "\n",
        "class Usuario:\n",
        "    def __init__(self, nome, senha):\n",
        "        self.nome = nome\n",
        "        self.__senha = self.__criptografar_senha(senha)  # Atributo privado\n",
        "\n",
        "    def __criptografar_senha(self, senha):\n",
        "        return hashlib.sha256(senha.encode()).hexdigest()  # Método privado\n",
        "\n",
        "    def validar_senha(self, senha):\n",
        "        return self.__criptografar_senha(senha) == self.__senha\n",
        "\n",
        "# Uso\n",
        "usuario = Usuario(\"Alice\", \"minha_senha_secreta\")\n",
        "print(usuario.validar_senha(\"minha_senha_secreta\"))  # True\n",
        "print(usuario.validar_senha(\"senha_errada\"))  # False\n"
      ],
      "metadata": {
        "id": "6l5N6waHEYs_"
      },
      "execution_count": null,
      "outputs": []
    },
    {
      "cell_type": "markdown",
      "source": [
        "**Por que usar encapsulamento?**\n",
        "\n",
        "A senha não pode ser acessada diretamente (self.__senha).\n",
        "\n",
        "O método de criptografia (__criptografar_senha) não pode ser chamado de fora da classe."
      ],
      "metadata": {
        "id": "prKOQZ8NEaq2"
      }
    },
    {
      "cell_type": "markdown",
      "source": [
        "**Exemplo: Sistema de Frota de Veículos**\n",
        "\n",
        "Neste exemplo, criamos um sistema de gerenciamento de frota, onde a quilometragem do veículo é um atributo privado e só pode ser alterado pelos métodos corretos."
      ],
      "metadata": {
        "id": "POIvhewOEdoP"
      }
    },
    {
      "cell_type": "code",
      "source": [
        "class Veiculo:\n",
        "    def __init__(self, modelo, ano, quilometragem):\n",
        "        self.modelo = modelo\n",
        "        self.ano = ano\n",
        "        self.__quilometragem = quilometragem  # Atributo privado\n",
        "\n",
        "    def adicionar_km(self, km):\n",
        "        \"\"\"Adiciona quilometragem ao veículo.\"\"\"\n",
        "        if km > 0:\n",
        "            self.__quilometragem += km\n",
        "            print(f\"{km} km adicionados ao veículo {self.modelo}.\")\n",
        "        else:\n",
        "            print(\"Valor inválido!\")\n",
        "\n",
        "    def consultar_km(self):\n",
        "        \"\"\"Retorna a quilometragem atual do veículo.\"\"\"\n",
        "        return f\"Veículo: {self.modelo} | Ano: {self.ano} | Quilometragem: {self.__quilometragem} km\"\n",
        "\n",
        "# Uso\n",
        "carro1 = Veiculo(\"Toyota Corolla\", 2020, 50000)\n",
        "\n",
        "carro1.adicionar_km(1500)  # Adiciona 1500 km\n",
        "print(carro1.consultar_km())  # Consulta a quilometragem\n"
      ],
      "metadata": {
        "id": "HInfNYOmEftG"
      },
      "execution_count": null,
      "outputs": []
    },
    {
      "cell_type": "markdown",
      "source": [
        "**🔹 O que esse exemplo ensina?**\n",
        "\n",
        "✅ Usa atributo privado (__quilometragem) para evitar modificações diretas\n",
        "\n",
        "✅ Permite alteração controlada através do método adicionar_km()\n",
        "\n",
        "✅ Oferece consulta segura da quilometragem"
      ],
      "metadata": {
        "id": "ZMZOjcAsEiPG"
      }
    },
    {
      "cell_type": "markdown",
      "source": [
        "# **Lista de Exercícios**\n",
        "\n",
        "**Exercícios práticos sobre encapsulamento**\n",
        "\n",
        "**Exercício 1: Atributo Público com Método de Exibição**\n",
        "* Tarefa: Crie uma classe Produto com um atributo público nome e um método exibir_nome() que exibe o nome do produto.\n",
        "* Objetivo: Compreender o uso de atributos públicos em métodos.\n",
        "\n",
        "**Exercício 2: Atributo Protegido com Método de Modificação**\n",
        "* Tarefa: Implemente uma classe Carro com um atributo protegido _modelo e um método atualizar_modelo(modelo) para alterar seu valor.\n",
        "* Objetivo: Explorar o uso de atributos protegidos.\n",
        "\n",
        "**Exercício 3: Controle de Acesso com Métodos Privados**\n",
        "* Tarefa: Desenvolva uma classe ContaBancaria com um atributo privado __senha e métodos acessores para acessar o saldo e realizar operações.\n",
        "* Objetivo: Garantir o controle de acesso aos atributos privados.\n",
        "\n",
        "**Exercício 4: Método Protegido para Modificação de Atributo**\n",
        "*Tarefa: Crie uma classe Aluno com um atributo protegido _nota e um método protegido modificar_nota(nota) para alterar a nota.\n",
        "* Objetivo: Trabalhar com métodos protegidos.\n",
        "\n",
        "**Exercício 5: Atributos Privados com Métodos Públicos**\n",
        "* Tarefa: Implemente uma classe Produto onde o atributo privado __preco pode ser acessado através de um método público get_preco().\n",
        "* Objetivo: Proteger atributos sensíveis e permitir acesso controlado.\n",
        "\n",
        "**Exercício 6: Sistema de Login com Atributos Privados**\n",
        "* Tarefa: Desenvolva uma classe Usuario que armazene a __senha de forma segura e tenha um método validar_senha(senha) que compara a senha.\n",
        "* Objetivo: Aprender a proteger informações sensíveis.\n",
        "\n",
        "**Exercício 7: Atributo Público com Validação**\n",
        "* Tarefa: Crie uma classe Pessoa com um atributo público idade e um método validar_idade(), que retorna True se a idade for maior ou igual a 18.\n",
        "* Objetivo: Compreender validações em atributos públicos.\n",
        "\n",
        "**Exercício 8: Encapsulamento de Salário com Método de Acesso**\n",
        "* Tarefa: Crie uma classe Funcionario que encapsule o atributo privado __salario e tenha um método informar_salario() que retorna o valor.\n",
        "* Objetivo: Manter a privacidade dos dados financeiros.\n",
        "\n",
        "**Exercício 9: Controle de Atributos Privados com Métodos Públicos**\n",
        "* Tarefa: Implemente uma classe Livro com atributos públicos titulo e autor, e um atributo privado __isbn com um método get_isbn() para acesso.\n",
        "* Objetivo: Diferenciar atributos públicos e privados.\n",
        "\n",
        "**Exercício 10: Classes Aninhadas com Atributos Protetores**\n",
        "* Tarefa: Crie uma classe Biblioteca que contém uma classe aninhada Livro, com um atributo protegido _titulo.\n",
        "* Objetivo: Explorar encapsulamento em classes aninhadas.\n",
        "\n",
        "**Exercício 11: Método Privado para Cálculo de Juros**\n",
        "* Tarefa: Crie uma classe Banco com um atributo privado __taxa_juros e um método privado __calcular_juros(saldo).\n",
        "* Objetivo: Explorar métodos privados que realizam cálculos internos.\n",
        "\n",
        "**Exercício 12: Sistema de Reserva com Atributos Protegidos**\n",
        "* Tarefa: Desenvolva uma classe Reserva que possui um atributo protegido _detalhes, com método mostrar_detalhes() que exibe as informações.\n",
        "* Objetivo: Garantir segurança dos dados enquanto permite acesso supervisionado.\n",
        "\n",
        "**Exercício 13: Gerenciamento de Estoque com Atributo Protegido**\n",
        "* Tarefa: Crie uma classe Loja que mantém um atributo protegido _estoque e um método adicionar_produto(produto) para modificar o estoque.\n",
        "* Objetivo: Controlar acesso aos dados de estoque.\n",
        "\n",
        "**Exercício 14: Aplicativo de Contatos com Validação de CPF**\n",
        "* Tarefa: Crie uma classe Cliente com um atributo privado __cpf, um método cadastrar_cliente() e um método estático validar_cpf(cpf).\n",
        "* Objetivo: Integrar verificações de validação de forma encapsulada."
      ],
      "metadata": {
        "id": "caHbGchlFVi3"
      }
    }
  ]
}